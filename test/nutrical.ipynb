{
 "cells": [
  {
   "cell_type": "markdown",
   "metadata": {},
   "source": [
    "## Installation\n",
    "\n",
    "```sh\n",
    "pip install nutrical\n",
    "```\n",
    "\n",
    "## Usage\n",
    "\n",
    "### Ingredients"
   ]
  },
  {
   "cell_type": "code",
   "execution_count": 1,
   "metadata": {},
   "outputs": [],
   "source": [
    "from nutrical import Ingredient, Recipe\n",
    "\n",
    "apple = Ingredient(\"apple\", amount='160g', calories=80, protein=.5, fiber=1, dollars=10)\n",
    "banana = Ingredient(\"banana\", amount='80g', calories=70, protein=1, fiber=1.6, dollars=9)\n",
    "peanut = Ingredient(\"peanut\", amount='20g', calories=110, protein=5.7, fat=20, fiber=1.8, dollars=10)\n",
    "milk = Ingredient(\"milk\", amount=\"1 cup\", calories=200, protein=3, dollars=15)"
   ]
  },
  {
   "cell_type": "code",
   "execution_count": 2,
   "metadata": {},
   "outputs": [
    {
     "data": {
      "text/plain": [
       "name      servings  amount      dollar    soluble fiber\n",
       "------  ----------  --------  --------  ---------------\n",
       "hi               1  150 gram        20                1"
      ]
     },
     "execution_count": 2,
     "metadata": {},
     "output_type": "execute_result"
    }
   ],
   "source": [
    "# Programmatic construction\n",
    "data = {'name': 'hi', 'amount': '150g', 'dollar': 20, 'Soluble Fiber': 1}\n",
    "Ingredient(**data)"
   ]
  },
  {
   "cell_type": "code",
   "execution_count": 3,
   "metadata": {},
   "outputs": [
    {
     "data": {
      "text/plain": [
       "name      servings  amount      calories    protein    fiber    dollars\n",
       "------  ----------  --------  ----------  ---------  -------  ---------\n",
       "apple            2  320 gram         160          1        2         20"
      ]
     },
     "execution_count": 3,
     "metadata": {},
     "output_type": "execute_result"
    }
   ],
   "source": [
    "# nutritional value of 2 apples (summed)\n",
    "2 * apple"
   ]
  },
  {
   "cell_type": "markdown",
   "metadata": {},
   "source": [
    "#### Change of basis\n",
    "\n",
    "A new ingredient can be created from an old one by setting a new amount, as well as any `kwargs` (except `name`) used in the definition of the ingredient. This makes it easy to calculate the nutritional value of the same ingredient with a different weight/volume, such as for a smaller apple."
   ]
  },
  {
   "cell_type": "code",
   "execution_count": 4,
   "metadata": {},
   "outputs": [
    {
     "data": {
      "text/plain": [
       "name      servings  amount      calories    protein    fiber    dollars\n",
       "------  ----------  --------  ----------  ---------  -------  ---------\n",
       "apple            1  160 gram          80        0.5        1         10"
      ]
     },
     "execution_count": 4,
     "metadata": {},
     "output_type": "execute_result"
    }
   ],
   "source": [
    "# A smaller apple\n",
    "apple2 = apple.to(amount='130g')\n",
    "apple2.set_servings(1)\n",
    "apple2"
   ]
  },
  {
   "cell_type": "markdown",
   "metadata": {},
   "source": [
    "You might also want to know the amount required to reach an intake of, say 3 grams of fiber. Simple, just supply fiber as the parameter of the `.to()` method."
   ]
  },
  {
   "cell_type": "code",
   "execution_count": 5,
   "metadata": {},
   "outputs": [
    {
     "data": {
      "text/plain": [
       "name      servings  amount        calories    protein    fiber    dollars\n",
       "------  ----------  ----------  ----------  ---------  -------  ---------\n",
       "apple            3  480.0 gram         240        1.5        3         30"
      ]
     },
     "execution_count": 5,
     "metadata": {},
     "output_type": "execute_result"
    }
   ],
   "source": [
    "# How much to eat to reach 3g of fibers?\n",
    "apple.to(fiber=3)"
   ]
  },
  {
   "cell_type": "markdown",
   "metadata": {},
   "source": [
    "Different ingredients can be added together. For instance, the code below calculates the nutritional value of apple milk. "
   ]
  },
  {
   "cell_type": "code",
   "execution_count": 6,
   "metadata": {},
   "outputs": [
    {
     "data": {
      "text/plain": [
       "  servings  amount      dollars    calories    fiber    protein\n",
       "----------  --------  ---------  ----------  -------  ---------\n",
       "         1                   25         280        1        3.5"
      ]
     },
     "execution_count": 6,
     "metadata": {},
     "output_type": "execute_result"
    }
   ],
   "source": [
    "# Apple milk nutritional value per 1g of protein\n",
    "# Note that amount is (auto-)discarded since \n",
    "# milk is measured in volume while apple in weights\n",
    "apple + milk"
   ]
  },
  {
   "cell_type": "markdown",
   "metadata": {},
   "source": [
    "Adding together different ingredients to arrive at a new one may seem a bit counter-intuitive. Indeed, that's why there's a `nutrical.Recipe` class to represent recipes directly."
   ]
  },
  {
   "cell_type": "markdown",
   "metadata": {},
   "source": [
    "### Recipes"
   ]
  },
  {
   "cell_type": "code",
   "execution_count": 7,
   "metadata": {},
   "outputs": [
    {
     "data": {
      "text/plain": [
       "<Recipe (Fruit Cake)>\n",
       "\n",
       "    servings  amount        calories    dollars    protein    fat    fiber\n",
       "  ----------  ----------  ----------  ---------  ---------  -----  -------\n",
       "           1  110.0 gram         235         24       9.55     30      4.3\n",
       "\n",
       "  [INGREDIENTS]\n",
       "        name      servings  amount       calories    protein    fiber    dollars    fat\n",
       "    --  ------  ----------  ---------  ----------  ---------  -------  ---------  -----\n",
       "     1  banana         1    80 gram            70       1         1.6          9\n",
       "     2  peanut         1.5  30.0 gram         165       8.55      2.7         15     30"
      ]
     },
     "execution_count": 7,
     "metadata": {},
     "output_type": "execute_result"
    }
   ],
   "source": [
    "# Create recipe from ingredients\n",
    "recipe = Recipe(\"Fruit Cake\", [\n",
    "    1   * banana,   # 1 banana\n",
    "    1.5 * peanut    # 1.5 servings of peanut butter\n",
    "])\n",
    "recipe"
   ]
  },
  {
   "cell_type": "code",
   "execution_count": 8,
   "metadata": {},
   "outputs": [
    {
     "data": {
      "text/plain": [
       "<Recipe (Fruit Cake)>\n",
       "\n",
       "    servings  amount        calories    dollars    protein    fat    fiber\n",
       "  ----------  ----------  ----------  ---------  ---------  -----  -------\n",
       "           1  350.0 gram         355         39       10.3     30      5.8\n",
       "\n",
       "  [INGREDIENTS]\n",
       "        name      servings  amount        calories    protein    fiber    dollars    fat\n",
       "    --  ------  ----------  ----------  ----------  ---------  -------  ---------  -----\n",
       "     1  banana         1    80 gram             70       1         1.6          9\n",
       "     2  peanut         1.5  30.0 gram          165       8.55      2.7         15     30\n",
       "     3  apple          1.5  240.0 gram         120       0.75      1.5         15"
      ]
     },
     "execution_count": 8,
     "metadata": {},
     "output_type": "execute_result"
    }
   ],
   "source": [
    "recipe.add(1.5*apple)  # add 1 and a half apples to ingredient\n",
    "recipe"
   ]
  },
  {
   "cell_type": "markdown",
   "metadata": {},
   "source": [
    "#### Some Recipe methods"
   ]
  },
  {
   "cell_type": "code",
   "execution_count": 9,
   "metadata": {},
   "outputs": [
    {
     "data": {
      "text/plain": [
       "<Recipe (Cake)>\n",
       "\n",
       "    servings  amount        calories    dollars    protein    fat    fiber\n",
       "  ----------  ----------  ----------  ---------  ---------  -----  -------\n",
       "           1  350.0 gram         355         39       10.3     30      5.8\n",
       "\n",
       "  [INGREDIENTS]\n",
       "        name      servings  amount        calories    protein    fiber    dollars    fat\n",
       "    --  ------  ----------  ----------  ----------  ---------  -------  ---------  -----\n",
       "     1  banana         1    80 gram             70       1         1.6          9\n",
       "     2  peanut         1.5  30.0 gram          165       8.55      2.7         15     30\n",
       "     3  apple          1.5  240.0 gram         120       0.75      1.5         15"
      ]
     },
     "execution_count": 9,
     "metadata": {},
     "output_type": "execute_result"
    }
   ],
   "source": [
    "recipe.rename(\"Cake\")  # rename recipe\n",
    "recipe"
   ]
  },
  {
   "cell_type": "code",
   "execution_count": 10,
   "metadata": {},
   "outputs": [
    {
     "data": {
      "text/plain": [
       "<Recipe (Cake)>\n",
       "\n",
       "    servings  amount        calories    dollars    protein    fat    fiber\n",
       "  ----------  ----------  ----------  ---------  ---------  -----  -------\n",
       "           1  100.0 gram      101.43      11.14       2.94   8.57     1.66\n",
       "\n",
       "  [INGREDIENTS]\n",
       "        name      servings  amount        calories    protein    fiber    dollars    fat\n",
       "    --  ------  ----------  ----------  ----------  ---------  -------  ---------  -----\n",
       "     1  banana    0.285714  22.86 gram       20          0.29     0.46       2.57\n",
       "     2  peanut    0.428571  8.57 gram        47.14       2.44     0.77       4.29   8.57\n",
       "     3  apple     0.428571  68.57 gram       34.29       0.21     0.43       4.29"
      ]
     },
     "execution_count": 10,
     "metadata": {},
     "output_type": "execute_result"
    }
   ],
   "source": [
    "recipe.to(amount = '100gram')  # change of basis"
   ]
  },
  {
   "cell_type": "code",
   "execution_count": 11,
   "metadata": {},
   "outputs": [
    {
     "data": {
      "text/plain": [
       "<Recipe (Cake)>\n",
       "\n",
       "    servings  amount        calories    dollars    protein    fat    fiber\n",
       "  ----------  ----------  ----------  ---------  ---------  -----  -------\n",
       "           1  100.0 gram      101.43      11.14       2.94   8.57     1.66\n",
       "\n",
       "  [INGREDIENTS]\n",
       "        name      servings  amount        calories    protein    fiber    dollars    fat\n",
       "    --  ------  ----------  ----------  ----------  ---------  -------  ---------  -----\n",
       "     1  banana    0.285714  22.86 gram       20          0.29     0.46       2.57\n",
       "     2  peanut    0.428571  8.57 gram        47.14       2.44     0.77       4.29   8.57\n",
       "     3  apple     0.428571  68.57 gram       34.29       0.21     0.43       4.29"
      ]
     },
     "execution_count": 11,
     "metadata": {},
     "output_type": "execute_result"
    }
   ],
   "source": [
    "recipe.to(amount = '100gram')  # change of basis"
   ]
  },
  {
   "cell_type": "markdown",
   "metadata": {},
   "source": [
    "#### Import/Export"
   ]
  },
  {
   "cell_type": "code",
   "execution_count": 12,
   "metadata": {},
   "outputs": [
    {
     "data": {
      "text/plain": [
       "<Recipe (Cake)>\n",
       "\n",
       "    servings  amount        calories    dollars    protein    fat    fiber\n",
       "  ----------  ----------  ----------  ---------  ---------  -----  -------\n",
       "           1  350.0 gram         355         39       10.3     30      5.8\n",
       "\n",
       "  [INGREDIENTS]\n",
       "        name      servings  amount        calories    protein    fiber    dollars    fat\n",
       "    --  ------  ----------  ----------  ----------  ---------  -------  ---------  -----\n",
       "     1  banana         1    80 gram             70       1         1.6          9\n",
       "     2  peanut         1.5  30.0 gram          165       8.55      2.7         15     30\n",
       "     3  apple          1.5  240.0 gram         120       0.75      1.5         15"
      ]
     },
     "execution_count": 12,
     "metadata": {},
     "output_type": "execute_result"
    }
   ],
   "source": [
    "recipe"
   ]
  },
  {
   "cell_type": "code",
   "execution_count": 13,
   "metadata": {},
   "outputs": [],
   "source": [
    "# Export nutritional value\n",
    "recipe.export_csv(\"FruitCake.csv\") \n",
    "recipe.export_xlsx(\"FruitCake.xlsx\") "
   ]
  },
  {
   "cell_type": "code",
   "execution_count": 14,
   "metadata": {},
   "outputs": [
    {
     "data": {
      "text/plain": [
       "<Recipe (FruitCake)>\n",
       "\n",
       "    servings  amount        calories    dollars    protein    fat    fiber\n",
       "  ----------  ----------  ----------  ---------  ---------  -----  -------\n",
       "           1  350.0 gram         355         39       10.3     30      5.8\n",
       "\n",
       "  [INGREDIENTS]\n",
       "        name      servings  amount        calories    dollars    protein    fat    fiber\n",
       "    --  ------  ----------  ----------  ----------  ---------  ---------  -----  -------\n",
       "     1  banana         1    80.0 gram           70          9       1         0      1.6\n",
       "     2  peanut         1.5  30.0 gram          165         15       8.55     30      2.7\n",
       "     3  apple          1.5  240.0 gram         120         15       0.75      0      1.5"
      ]
     },
     "execution_count": 14,
     "metadata": {},
     "output_type": "execute_result"
    }
   ],
   "source": [
    "from nutrical import import_recipe\n",
    "\n",
    "# Import recipe from csv/excel\n",
    "recipe = import_recipe(\"FruitCake.csv\")\n",
    "recipe"
   ]
  },
  {
   "cell_type": "code",
   "execution_count": 15,
   "metadata": {},
   "outputs": [
    {
     "data": {
      "text/plain": [
       "<Recipe (FruitCake)>\n",
       "\n",
       "    servings  amount        calories    dollars    protein    fat    fiber\n",
       "  ----------  ----------  ----------  ---------  ---------  -----  -------\n",
       "           1  350.0 gram         355         39       10.3     30      5.8\n",
       "\n",
       "  [INGREDIENTS]\n",
       "        name      servings  amount        calories    dollars    protein    fat    fiber\n",
       "    --  ------  ----------  ----------  ----------  ---------  ---------  -----  -------\n",
       "     1  banana         1    80.0 gram           70          9       1         0      1.6\n",
       "     2  peanut         1.5  30.0 gram          165         15       8.55     30      2.7\n",
       "     3  apple          1.5  240.0 gram         120         15       0.75      0      1.5"
      ]
     },
     "execution_count": 15,
     "metadata": {},
     "output_type": "execute_result"
    }
   ],
   "source": [
    "recipe = import_recipe(\"FruitCake.xlsx\")\n",
    "recipe"
   ]
  },
  {
   "cell_type": "markdown",
   "metadata": {},
   "source": [
    "## Example 1: Home-made Yogurt"
   ]
  },
  {
   "cell_type": "code",
   "execution_count": 16,
   "metadata": {},
   "outputs": [],
   "source": [
    "from nutrical.utils import UREG\n",
    "from nutrical import Ingredient, Recipe\n",
    "\n",
    "powder = Ingredient(\"milk powder\", amount='32g', protein=7.8)\n",
    "water = Ingredient(\"water\", amount='200g')\n",
    "probio = Ingredient(\"probiotics (yogurt)\", amount=\"75g\", protein=2.7)\n",
    "\n",
    "target_protein_concentration = 6\n",
    "target_total_weight = 700\n",
    "protein_from_milk = target_protein_concentration * (target_total_weight/100) - 2.7\n",
    "powder_to_add = powder.to(protein=protein_from_milk)\n",
    "water_weight = UREG(f\"{target_total_weight} gram\") - probio.total_amount - powder_to_add.total_amount"
   ]
  },
  {
   "cell_type": "code",
   "execution_count": 17,
   "metadata": {},
   "outputs": [
    {
     "data": {
      "text/plain": [
       "<Recipe (yogurt)>\n",
       "\n",
       "    servings  amount        protein\n",
       "  ----------  ----------  ---------\n",
       "           1  700.0 gram         42\n",
       "\n",
       "  [INGREDIENTS]\n",
       "        name                   servings  amount         protein\n",
       "    --  -------------------  ----------  -----------  ---------\n",
       "     1  milk powder             5.03846  161.23 gram       39.3\n",
       "     2  water                   2.31885  463.77 gram\n",
       "     3  probiotics (yogurt)     1        75 gram            2.7"
      ]
     },
     "execution_count": 17,
     "metadata": {},
     "output_type": "execute_result"
    }
   ],
   "source": [
    "yogurt = Recipe(\"yogurt\", components=[\n",
    "    powder_to_add,\n",
    "    water.to(amount=water_weight),\n",
    "    probio\n",
    "])\n",
    "yogurt"
   ]
  },
  {
   "cell_type": "code",
   "execution_count": 18,
   "metadata": {},
   "outputs": [
    {
     "data": {
      "text/plain": [
       "<Recipe (yogurt)>\n",
       "\n",
       "    servings  amount        protein\n",
       "  ----------  ----------  ---------\n",
       "           1  100.0 gram          6\n",
       "\n",
       "  [INGREDIENTS]\n",
       "        name                   servings  amount        protein\n",
       "    --  -------------------  ----------  ----------  ---------\n",
       "     1  milk powder            0.71978   23.03 gram       5.61\n",
       "     2  water                  0.331264  66.25 gram\n",
       "     3  probiotics (yogurt)    0.142857  10.71 gram       0.39"
      ]
     },
     "execution_count": 18,
     "metadata": {},
     "output_type": "execute_result"
    }
   ],
   "source": [
    "yogurt.to(amount='100g')"
   ]
  },
  {
   "cell_type": "markdown",
   "metadata": {},
   "source": [
    "## Example 2: Cost-efficient Protein\n",
    "\n",
    "Say, I have a limited budget on protein supplements. In order to reach the \n",
    "recommened amount of protein intake, I would like to find the most cost-efficient protein source available to me. \n",
    "\n",
    "| Product         | Unit      | Protein (g) |   Price (NTD) |\n",
    "|-----------------|-----------|-------------|---------------|\n",
    "| Whey            |  1 bag    |  1000 * .8  |       499     |\n",
    "| Casein          |  1 bag    |   907 * .8  |      1200     |\n",
    "| Egg (7-11)      |  1 egg    |     6       |        10     |\n",
    "| Egg (raw)       |  1 box    |    10 * 6   |        59     |\n",
    "| Tofu            |  1 box    |     4 * 8.5 |        35     |\n",
    "| Dry milk        |  1 can    |   7.8 * 81  |       789     |\n",
    "| Soy milk (7-11) |  1 bottle |   3.4 * 4   |        25     |\n",
    "\n",
    "Above are some of the candidates. Let's find out which of them has the **lowest price per gram of protein**. The `nutrical.Rank` function can help with this.\n"
   ]
  },
  {
   "cell_type": "code",
   "execution_count": 19,
   "metadata": {},
   "outputs": [
    {
     "name": "stdout",
     "output_type": "stream",
     "text": [
      "    name               dollars    protein\n",
      "--  ---------------  ---------  ---------\n",
      " 1  Whey                  0.62          1\n",
      " 2  Egg (raw)             1             1\n",
      " 3  Tofu                  1.03          1\n",
      " 4  Dry milk              1.25          1\n",
      " 5  Casein                1.65          1\n",
      " 6  Egg (7-11)            1.67          1\n",
      " 7  Soy milk (7-11)       1.84          1\n"
     ]
    }
   ],
   "source": [
    "from nutrical import Rank\n",
    "from nutrical import Ingredient as I\n",
    "\n",
    "sources_of_protein = [\n",
    "    I(\"Whey\",            protein = 1000 * .8, price = 499),\n",
    "    I(\"Casein\",          protein =  907 * .8, price = 1200),\n",
    "    I(\"Egg (7-11)\",      protein = 6        , price = 10),\n",
    "    I(\"Egg (raw)\" ,      protein = 6        , price = 6),\n",
    "    I(\"Tofu\",            protein = 8.5 * 4  , price = 35),\n",
    "    I(\"Dry milk\",        protein = 7.8 * 81 , price = 789),\n",
    "    I(\"Soy milk (7-11)\", protein = 3.4 * 4  , price = 25),\n",
    "]\n",
    "\n",
    "Rank( sources_of_protein, by='dollars', protein=1 )"
   ]
  }
 ],
 "metadata": {
  "kernelspec": {
   "display_name": "Python 3",
   "language": "python",
   "name": "python3"
  },
  "language_info": {
   "codemirror_mode": {
    "name": "ipython",
    "version": 3
   },
   "file_extension": ".py",
   "mimetype": "text/x-python",
   "name": "python",
   "nbconvert_exporter": "python",
   "pygments_lexer": "ipython3",
   "version": "3.8.10"
  }
 },
 "nbformat": 4,
 "nbformat_minor": 2
}
